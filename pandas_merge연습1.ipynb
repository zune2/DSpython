{
 "cells": [
  {
   "cell_type": "code",
   "execution_count": null,
   "metadata": {},
   "outputs": [],
   "source": [
    "# pandas로 예제 데이터 csv만들기\n",
    "# join하기\n",
    "# 불필요 컬럼 지우기 (index를 이용해서)\n",
    "\n",
    "# 2023.8.12\n",
    "# https://www.youtube.com/watch?v=oMSphIYmlYo"
   ]
  },
  {
   "cell_type": "code",
   "execution_count": 5,
   "metadata": {},
   "outputs": [],
   "source": [
    "import pandas as pd"
   ]
  },
  {
   "cell_type": "code",
   "execution_count": 27,
   "metadata": {},
   "outputs": [],
   "source": [
    "# pansdas로 csv파일 쓰기 (dictionary 이용)\n",
    "df1 = pd.DataFrame({\n",
    "    \"이름\": [\"송중기\", \"김나연\", \"박보검\", \"권보아\", \"이효리\"], \n",
    "    \"업체\": [\"별다방\", \"콩다방\", \"별다방\", \"별다방\", \"콩다방\"], \n",
    "    \"제품\": [\"카페라테\", \"아이스티\", \"아이스티\", \"카페라테\", \"아이스티\"], \n",
    "                     })"
   ]
  },
  {
   "cell_type": "code",
   "execution_count": 28,
   "metadata": {
    "scrolled": true
   },
   "outputs": [
    {
     "data": {
      "text/html": [
       "<div>\n",
       "<style scoped>\n",
       "    .dataframe tbody tr th:only-of-type {\n",
       "        vertical-align: middle;\n",
       "    }\n",
       "\n",
       "    .dataframe tbody tr th {\n",
       "        vertical-align: top;\n",
       "    }\n",
       "\n",
       "    .dataframe thead th {\n",
       "        text-align: right;\n",
       "    }\n",
       "</style>\n",
       "<table border=\"1\" class=\"dataframe\">\n",
       "  <thead>\n",
       "    <tr style=\"text-align: right;\">\n",
       "      <th></th>\n",
       "      <th>이름</th>\n",
       "      <th>업체</th>\n",
       "      <th>제품</th>\n",
       "    </tr>\n",
       "  </thead>\n",
       "  <tbody>\n",
       "    <tr>\n",
       "      <th>0</th>\n",
       "      <td>송중기</td>\n",
       "      <td>별다방</td>\n",
       "      <td>카페라테</td>\n",
       "    </tr>\n",
       "    <tr>\n",
       "      <th>1</th>\n",
       "      <td>김나연</td>\n",
       "      <td>콩다방</td>\n",
       "      <td>아이스티</td>\n",
       "    </tr>\n",
       "    <tr>\n",
       "      <th>2</th>\n",
       "      <td>박보검</td>\n",
       "      <td>별다방</td>\n",
       "      <td>아이스티</td>\n",
       "    </tr>\n",
       "    <tr>\n",
       "      <th>3</th>\n",
       "      <td>권보아</td>\n",
       "      <td>별다방</td>\n",
       "      <td>카페라테</td>\n",
       "    </tr>\n",
       "    <tr>\n",
       "      <th>4</th>\n",
       "      <td>이효리</td>\n",
       "      <td>콩다방</td>\n",
       "      <td>아이스티</td>\n",
       "    </tr>\n",
       "  </tbody>\n",
       "</table>\n",
       "</div>"
      ],
      "text/plain": [
       "    이름   업체    제품\n",
       "0  송중기  별다방  카페라테\n",
       "1  김나연  콩다방  아이스티\n",
       "2  박보검  별다방  아이스티\n",
       "3  권보아  별다방  카페라테\n",
       "4  이효리  콩다방  아이스티"
      ]
     },
     "execution_count": 28,
     "metadata": {},
     "output_type": "execute_result"
    }
   ],
   "source": [
    "#df1 = pd.read_csv(\"data1.csv\")\n",
    "df1"
   ]
  },
  {
   "cell_type": "code",
   "execution_count": 33,
   "metadata": {},
   "outputs": [
    {
     "data": {
      "text/html": [
       "<div>\n",
       "<style scoped>\n",
       "    .dataframe tbody tr th:only-of-type {\n",
       "        vertical-align: middle;\n",
       "    }\n",
       "\n",
       "    .dataframe tbody tr th {\n",
       "        vertical-align: top;\n",
       "    }\n",
       "\n",
       "    .dataframe thead th {\n",
       "        text-align: right;\n",
       "    }\n",
       "</style>\n",
       "<table border=\"1\" class=\"dataframe\">\n",
       "  <thead>\n",
       "    <tr style=\"text-align: right;\">\n",
       "      <th></th>\n",
       "      <th>업체</th>\n",
       "      <th>제품</th>\n",
       "      <th>가격</th>\n",
       "    </tr>\n",
       "  </thead>\n",
       "  <tbody>\n",
       "    <tr>\n",
       "      <th>0</th>\n",
       "      <td>별다방</td>\n",
       "      <td>카페라테</td>\n",
       "      <td>4500</td>\n",
       "    </tr>\n",
       "    <tr>\n",
       "      <th>1</th>\n",
       "      <td>별다방</td>\n",
       "      <td>아이스티</td>\n",
       "      <td>5000</td>\n",
       "    </tr>\n",
       "    <tr>\n",
       "      <th>2</th>\n",
       "      <td>콩다방</td>\n",
       "      <td>카페라테</td>\n",
       "      <td>4200</td>\n",
       "    </tr>\n",
       "    <tr>\n",
       "      <th>3</th>\n",
       "      <td>콩다방</td>\n",
       "      <td>아이스티</td>\n",
       "      <td>4700</td>\n",
       "    </tr>\n",
       "  </tbody>\n",
       "</table>\n",
       "</div>"
      ],
      "text/plain": [
       "    업체    제품    가격\n",
       "0  별다방  카페라테  4500\n",
       "1  별다방  아이스티  5000\n",
       "2  콩다방  카페라테  4200\n",
       "3  콩다방  아이스티  4700"
      ]
     },
     "execution_count": 33,
     "metadata": {},
     "output_type": "execute_result"
    }
   ],
   "source": [
    "df2 = pd.DataFrame({\n",
    "    \"업체\": [\"별다방\", \"별다방\", \"콩다방\", \"콩다방\"], \n",
    "    \"제품\": [\"카페라테\", \"아이스티\", \"카페라테\", \"아이스티\"], \n",
    "    \"가격\": [4500, 5000, 4200, 4700],     \n",
    "                     })\n",
    "#df2 = pd.read_csv(\"data2.csv\")\n",
    "df2"
   ]
  },
  {
   "cell_type": "code",
   "execution_count": 34,
   "metadata": {},
   "outputs": [],
   "source": [
    "df3 = df1.merge(df2, how=\"left\")"
   ]
  },
  {
   "cell_type": "code",
   "execution_count": 37,
   "metadata": {
    "scrolled": true
   },
   "outputs": [
    {
     "data": {
      "text/html": [
       "<div>\n",
       "<style scoped>\n",
       "    .dataframe tbody tr th:only-of-type {\n",
       "        vertical-align: middle;\n",
       "    }\n",
       "\n",
       "    .dataframe tbody tr th {\n",
       "        vertical-align: top;\n",
       "    }\n",
       "\n",
       "    .dataframe thead th {\n",
       "        text-align: right;\n",
       "    }\n",
       "</style>\n",
       "<table border=\"1\" class=\"dataframe\">\n",
       "  <thead>\n",
       "    <tr style=\"text-align: right;\">\n",
       "      <th></th>\n",
       "      <th>이름</th>\n",
       "      <th>업체</th>\n",
       "      <th>제품</th>\n",
       "      <th>가격</th>\n",
       "    </tr>\n",
       "  </thead>\n",
       "  <tbody>\n",
       "    <tr>\n",
       "      <th>0</th>\n",
       "      <td>송중기</td>\n",
       "      <td>별다방</td>\n",
       "      <td>카페라테</td>\n",
       "      <td>4500</td>\n",
       "    </tr>\n",
       "    <tr>\n",
       "      <th>1</th>\n",
       "      <td>김나연</td>\n",
       "      <td>콩다방</td>\n",
       "      <td>아이스티</td>\n",
       "      <td>4700</td>\n",
       "    </tr>\n",
       "    <tr>\n",
       "      <th>2</th>\n",
       "      <td>박보검</td>\n",
       "      <td>별다방</td>\n",
       "      <td>아이스티</td>\n",
       "      <td>5000</td>\n",
       "    </tr>\n",
       "    <tr>\n",
       "      <th>3</th>\n",
       "      <td>권보아</td>\n",
       "      <td>별다방</td>\n",
       "      <td>카페라테</td>\n",
       "      <td>4500</td>\n",
       "    </tr>\n",
       "    <tr>\n",
       "      <th>4</th>\n",
       "      <td>이효리</td>\n",
       "      <td>콩다방</td>\n",
       "      <td>아이스티</td>\n",
       "      <td>4700</td>\n",
       "    </tr>\n",
       "  </tbody>\n",
       "</table>\n",
       "</div>"
      ],
      "text/plain": [
       "    이름   업체    제품    가격\n",
       "0  송중기  별다방  카페라테  4500\n",
       "1  김나연  콩다방  아이스티  4700\n",
       "2  박보검  별다방  아이스티  5000\n",
       "3  권보아  별다방  카페라테  4500\n",
       "4  이효리  콩다방  아이스티  4700"
      ]
     },
     "execution_count": 37,
     "metadata": {},
     "output_type": "execute_result"
    }
   ],
   "source": [
    "df3.head()"
   ]
  },
  {
   "cell_type": "code",
   "execution_count": 38,
   "metadata": {},
   "outputs": [],
   "source": [
    "# index로 컬럼 지우기\n",
    "df4 = df3.drop(df3.columns[3], axis=1)"
   ]
  },
  {
   "cell_type": "code",
   "execution_count": 40,
   "metadata": {},
   "outputs": [
    {
     "data": {
      "text/html": [
       "<div>\n",
       "<style scoped>\n",
       "    .dataframe tbody tr th:only-of-type {\n",
       "        vertical-align: middle;\n",
       "    }\n",
       "\n",
       "    .dataframe tbody tr th {\n",
       "        vertical-align: top;\n",
       "    }\n",
       "\n",
       "    .dataframe thead th {\n",
       "        text-align: right;\n",
       "    }\n",
       "</style>\n",
       "<table border=\"1\" class=\"dataframe\">\n",
       "  <thead>\n",
       "    <tr style=\"text-align: right;\">\n",
       "      <th></th>\n",
       "      <th>이름</th>\n",
       "      <th>업체</th>\n",
       "      <th>제품</th>\n",
       "    </tr>\n",
       "  </thead>\n",
       "  <tbody>\n",
       "    <tr>\n",
       "      <th>0</th>\n",
       "      <td>송중기</td>\n",
       "      <td>별다방</td>\n",
       "      <td>카페라테</td>\n",
       "    </tr>\n",
       "    <tr>\n",
       "      <th>1</th>\n",
       "      <td>김나연</td>\n",
       "      <td>콩다방</td>\n",
       "      <td>아이스티</td>\n",
       "    </tr>\n",
       "    <tr>\n",
       "      <th>2</th>\n",
       "      <td>박보검</td>\n",
       "      <td>별다방</td>\n",
       "      <td>아이스티</td>\n",
       "    </tr>\n",
       "    <tr>\n",
       "      <th>3</th>\n",
       "      <td>권보아</td>\n",
       "      <td>별다방</td>\n",
       "      <td>카페라테</td>\n",
       "    </tr>\n",
       "    <tr>\n",
       "      <th>4</th>\n",
       "      <td>이효리</td>\n",
       "      <td>콩다방</td>\n",
       "      <td>아이스티</td>\n",
       "    </tr>\n",
       "  </tbody>\n",
       "</table>\n",
       "</div>"
      ],
      "text/plain": [
       "    이름   업체    제품\n",
       "0  송중기  별다방  카페라테\n",
       "1  김나연  콩다방  아이스티\n",
       "2  박보검  별다방  아이스티\n",
       "3  권보아  별다방  카페라테\n",
       "4  이효리  콩다방  아이스티"
      ]
     },
     "execution_count": 40,
     "metadata": {},
     "output_type": "execute_result"
    }
   ],
   "source": [
    "df4.head()"
   ]
  },
  {
   "cell_type": "code",
   "execution_count": 41,
   "metadata": {},
   "outputs": [],
   "source": [
    "# csv 파일로 내용 저장하기\n",
    "df1.to_csv(\"test1.csv\")\n",
    "df2.to_csv(\"test2.csv\")\n",
    "df3.to_csv(\"test3.csv\")\n",
    "df4.to_csv(\"test4.csv\")"
   ]
  },
  {
   "cell_type": "code",
   "execution_count": null,
   "metadata": {},
   "outputs": [],
   "source": []
  }
 ],
 "metadata": {
  "kernelspec": {
   "display_name": "Python 3",
   "language": "python",
   "name": "python3"
  },
  "language_info": {
   "codemirror_mode": {
    "name": "ipython",
    "version": 3
   },
   "file_extension": ".py",
   "mimetype": "text/x-python",
   "name": "python",
   "nbconvert_exporter": "python",
   "pygments_lexer": "ipython3",
   "version": "3.7.3"
  }
 },
 "nbformat": 4,
 "nbformat_minor": 2
}
